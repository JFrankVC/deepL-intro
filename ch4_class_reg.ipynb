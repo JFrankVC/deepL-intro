{
  "nbformat": 4,
  "nbformat_minor": 0,
  "metadata": {
    "colab": {
      "provenance": [],
      "authorship_tag": "ABX9TyPNLchm5oO+zRmJ4ngsozRw",
      "include_colab_link": true
    },
    "kernelspec": {
      "name": "python3",
      "display_name": "Python 3"
    },
    "language_info": {
      "name": "python"
    }
  },
  "cells": [
    {
      "cell_type": "markdown",
      "metadata": {
        "id": "view-in-github",
        "colab_type": "text"
      },
      "source": [
        "<a href=\"https://colab.research.google.com/github/JFrankVC/deepL-intro/blob/main/ch4_class_reg.ipynb\" target=\"_parent\"><img src=\"https://colab.research.google.com/assets/colab-badge.svg\" alt=\"Open In Colab\"/></a>"
      ]
    },
    {
      "cell_type": "markdown",
      "source": [
        "# Binary classification example"
      ],
      "metadata": {
        "id": "23mWo66zCu8j"
      }
    },
    {
      "cell_type": "markdown",
      "source": [
        "## 1. The IMDB dataset"
      ],
      "metadata": {
        "id": "iEwpYT8GHOia"
      }
    },
    {
      "cell_type": "markdown",
      "source": [
        "### Loading the IMDB dataset"
      ],
      "metadata": {
        "id": "pzuWl1lzC0I5"
      }
    },
    {
      "cell_type": "code",
      "execution_count": null,
      "metadata": {
        "id": "ZFMm9WW5CMfM"
      },
      "outputs": [],
      "source": [
        "from tensorflow.keras.datasets import imdb\n",
        "(train_data, train_labels), (test_data, test_labels) = imdb.load_data(num_words=10000)"
      ]
    },
    {
      "cell_type": "code",
      "source": [
        "len(train_data[0])"
      ],
      "metadata": {
        "colab": {
          "base_uri": "https://localhost:8080/"
        },
        "id": "0FEaDGaDDBnK",
        "outputId": "08206beb-0b44-45be-bcb8-a0ba8a3f0859"
      },
      "execution_count": null,
      "outputs": [
        {
          "output_type": "execute_result",
          "data": {
            "text/plain": [
              "218"
            ]
          },
          "metadata": {},
          "execution_count": 37
        }
      ]
    },
    {
      "cell_type": "code",
      "source": [
        "train_labels[0]"
      ],
      "metadata": {
        "colab": {
          "base_uri": "https://localhost:8080/"
        },
        "id": "yRbu1UWODxKK",
        "outputId": "377b0629-2bf8-4f0e-a15b-e1f621249239"
      },
      "execution_count": null,
      "outputs": [
        {
          "output_type": "execute_result",
          "data": {
            "text/plain": [
              "1"
            ]
          },
          "metadata": {},
          "execution_count": 14
        }
      ]
    },
    {
      "cell_type": "code",
      "source": [
        "max([max(sequence) for sequence in train_data])"
      ],
      "metadata": {
        "colab": {
          "base_uri": "https://localhost:8080/"
        },
        "id": "jvj63qyLE2JT",
        "outputId": "ad1ca121-7cb1-4bf8-d127-205b1d5652b6"
      },
      "execution_count": null,
      "outputs": [
        {
          "output_type": "execute_result",
          "data": {
            "text/plain": [
              "9999"
            ]
          },
          "metadata": {},
          "execution_count": 19
        }
      ]
    },
    {
      "cell_type": "markdown",
      "source": [
        "### Decoding reviews back to text"
      ],
      "metadata": {
        "id": "khcqsRFNFD51"
      }
    },
    {
      "cell_type": "code",
      "source": [
        "word_index = imdb.get_word_index()\n",
        "reverse_word_index = dict([(value, key) for (key, value) in word_index.items()])\n",
        "decoded_review = \" \".join([reverse_word_index.get(i - 3, \"?\") for i in train_data[0]])"
      ],
      "metadata": {
        "id": "sG5UR0tVFDLb"
      },
      "execution_count": null,
      "outputs": []
    },
    {
      "cell_type": "code",
      "source": [
        "word_index"
      ],
      "metadata": {
        "id": "wLRuBaGdGo7l"
      },
      "execution_count": null,
      "outputs": []
    },
    {
      "cell_type": "code",
      "source": [
        "reverse_word_index"
      ],
      "metadata": {
        "id": "w2oqLPoAGTNw"
      },
      "execution_count": null,
      "outputs": []
    },
    {
      "cell_type": "code",
      "source": [
        "len(decoded_review.split())"
      ],
      "metadata": {
        "colab": {
          "base_uri": "https://localhost:8080/"
        },
        "id": "VuKyUvW5FXWy",
        "outputId": "2197cd16-2c65-4461-ce1c-ed217c901199"
      },
      "execution_count": null,
      "outputs": [
        {
          "output_type": "execute_result",
          "data": {
            "text/plain": [
              "218"
            ]
          },
          "metadata": {},
          "execution_count": 36
        }
      ]
    },
    {
      "cell_type": "markdown",
      "source": [
        "## 2. Preparing the data"
      ],
      "metadata": {
        "id": "j0R4gB3tHAPZ"
      }
    },
    {
      "cell_type": "markdown",
      "source": [
        "### Encoding the integer sequences via multi-hot encoding"
      ],
      "metadata": {
        "id": "_RQEyXJCHppk"
      }
    },
    {
      "cell_type": "code",
      "source": [
        "import numpy as np\n",
        "def vectorize_sequences(sequences, dimension=10000):\n",
        "    results = np.zeros((len(sequences), dimension)) # Creates an all-zero matrix of shape (len(sequences), dimension)\n",
        "    for i, sequence in enumerate(sequences):\n",
        "        # print(i)\n",
        "        for j in sequence:\n",
        "            results[i, j] = 1.  # Sets specific indices of results[i] to 1s\n",
        "    return results\n",
        "x_train = vectorize_sequences(train_data)\n",
        "x_test = vectorize_sequences(test_data)"
      ],
      "metadata": {
        "id": "UXR6g1jMHCDD"
      },
      "execution_count": null,
      "outputs": []
    },
    {
      "cell_type": "code",
      "source": [
        "x_train[0]"
      ],
      "metadata": {
        "colab": {
          "base_uri": "https://localhost:8080/"
        },
        "id": "HFXTXALyKvF6",
        "outputId": "f2ba90bf-dbb4-4fd1-a9ef-36056469c3a4"
      },
      "execution_count": null,
      "outputs": [
        {
          "output_type": "execute_result",
          "data": {
            "text/plain": [
              "array([0., 1., 1., ..., 0., 0., 0.])"
            ]
          },
          "metadata": {},
          "execution_count": 69
        }
      ]
    },
    {
      "cell_type": "code",
      "source": [
        "y_train = np.asarray(train_labels).astype(\"float32\")\n",
        "y_test = np.asarray(test_labels).astype(\"float32\")"
      ],
      "metadata": {
        "id": "ZVFA_T-RKwg7"
      },
      "execution_count": null,
      "outputs": []
    },
    {
      "cell_type": "code",
      "source": [
        "type(train_labels[0])"
      ],
      "metadata": {
        "colab": {
          "base_uri": "https://localhost:8080/"
        },
        "id": "l-omvBxCK3Bh",
        "outputId": "771fe452-3299-404f-e2fe-2cf63bb18d46"
      },
      "execution_count": null,
      "outputs": [
        {
          "output_type": "execute_result",
          "data": {
            "text/plain": [
              "numpy.int64"
            ]
          },
          "metadata": {},
          "execution_count": 73
        }
      ]
    },
    {
      "cell_type": "code",
      "source": [
        "y_train[0]"
      ],
      "metadata": {
        "colab": {
          "base_uri": "https://localhost:8080/"
        },
        "id": "hiZTTZYvKzL8",
        "outputId": "dbb31953-291c-4f98-82d5-b6d1d5056f0b"
      },
      "execution_count": null,
      "outputs": [
        {
          "output_type": "execute_result",
          "data": {
            "text/plain": [
              "1.0"
            ]
          },
          "metadata": {},
          "execution_count": 71
        }
      ]
    },
    {
      "cell_type": "markdown",
      "source": [
        "## 3. Building your model"
      ],
      "metadata": {
        "id": "JdBR9p9YLANY"
      }
    },
    {
      "cell_type": "markdown",
      "source": [
        "The input data is vectors, and the labels are scalars (1s and 0s): this is one of the simplest problem setups you'll ever encounter. A type of model that performs well on such a problem is a plain stack of densely connected\n",
        "`(Dense)` layers with `relu` activations.\n",
        "\n",
        "There are two key architecture decisions to be made about such a stack of `Dense` layers:\n",
        "\n",
        "*   How many layers to use\n",
        "*   How many units to choose for each layer"
      ],
      "metadata": {
        "id": "SgBuH9FSLMIu"
      }
    },
    {
      "cell_type": "markdown",
      "source": [
        "### Model definition"
      ],
      "metadata": {
        "id": "u99UJORlKlnC"
      }
    },
    {
      "cell_type": "code",
      "source": [
        "from tensorflow import keras\n",
        "from tensorflow.keras import layers\n",
        "\n",
        "model = keras.Sequential([\n",
        "    layers.Dense(16, activation=\"relu\"),    # 16 units\n",
        "    layers.Dense(16, activation=\"relu\"),    # 16 units\n",
        "    layers.Dense(1, activation=\"sigmoid\")   # 1 unit\n",
        "])"
      ],
      "metadata": {
        "id": "yegzSiXILCp3"
      },
      "execution_count": null,
      "outputs": []
    },
    {
      "cell_type": "markdown",
      "source": [
        "Each such `Dense` layer with a `relu` activation implements the following chain of tensor operation: `output = relu(dot(input, W) + b)`."
      ],
      "metadata": {
        "id": "6-nnLrzgK4pX"
      }
    },
    {
      "cell_type": "markdown",
      "source": [
        "Having 16 units means the weight matrix `W` will have shape `(input_dimension, 16)`: the dot product with `W` will project the input data onto a 16-dimensional representation space (and then you'll add the bias vector `b` and apply the `relu` operation)."
      ],
      "metadata": {
        "id": "YKlt43BgLO42"
      }
    },
    {
      "cell_type": "markdown",
      "source": [
        "Dimensionality: *“how much freedom you're allowing the model to have when learning internal representations.”*"
      ],
      "metadata": {
        "id": "H-8niTyJL4ZN"
      }
    },
    {
      "cell_type": "code",
      "source": [],
      "metadata": {
        "id": "FXqcloQ-Pufn"
      },
      "execution_count": null,
      "outputs": []
    }
  ]
}